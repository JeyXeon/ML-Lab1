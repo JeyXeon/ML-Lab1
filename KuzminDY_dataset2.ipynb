{
 "cells": [
  {
   "cell_type": "markdown",
   "metadata": {},
   "source": [
    "# <left>Кузьмин Д. Ю. М80-304Б</left>"
   ]
  },
  {
   "cell_type": "markdown",
   "metadata": {},
   "source": [
    "#   <center>Лабораторная работа №1</center>"
   ]
  },
  {
   "cell_type": "markdown",
   "metadata": {},
   "source": [
    "##   <center>Второй датасет</center>"
   ]
  },
  {
   "cell_type": "markdown",
   "metadata": {},
   "source": [
    "### Выбираем датасет"
   ]
  },
  {
   "cell_type": "markdown",
   "metadata": {},
   "source": [
    "Датасет взят с сайта *Kaggle*: https://www.kaggle.com/ramamet4/app-store-apple-data-set-10k-apps"
   ]
  },
  {
   "cell_type": "markdown",
   "metadata": {},
   "source": [
    "### Описание данных"
   ]
  },
  {
   "cell_type": "markdown",
   "metadata": {},
   "source": [
    "**Цель:** Проанализировать и подготовит данные из датасета для решения задачи предсказания рейтинга приложения."
   ]
  },
  {
   "cell_type": "markdown",
   "metadata": {},
   "source": [
    "**Содержание:** Данные содержат открытую информацию о приложениях из *AppStore* в виде первого приложения, а также описание этих приложений в виде второго датасета."
   ]
  },
  {
   "cell_type": "markdown",
   "metadata": {},
   "source": [
    "### Импортируем необходимые библиотеки"
   ]
  },
  {
   "cell_type": "code",
   "execution_count": 1,
   "metadata": {},
   "outputs": [],
   "source": [
    "import os\n",
    "\n",
    "import pandas as pd\n",
    "import numpy as np\n",
    "import matplotlib\n",
    "import matplotlib.pyplot as plt\n",
    "import seaborn as sns\n",
    "\n",
    "import pymorphy2\n",
    "\n",
    "import nltk\n",
    "from nltk.corpus import stopwords\n",
    "\n",
    "\n",
    "from sklearn.preprocessing import StandardScaler \n",
    "\n",
    "import warnings\n",
    "\n",
    "from tqdm import tqdm\n",
    "\n",
    "from pandas.plotting import scatter_matrix\n",
    "\n",
    "\n",
    "warnings.filterwarnings(\"ignore\")\n",
    "\n",
    "%matplotlib inline\n",
    "matplotlib.rcParams['figure.figsize'] = (18,8)"
   ]
  },
  {
   "cell_type": "markdown",
   "metadata": {},
   "source": [
    "### Импортируем данные"
   ]
  },
  {
   "cell_type": "markdown",
   "metadata": {},
   "source": [
    "Импортируем два датасета."
   ]
  },
  {
   "cell_type": "code",
   "execution_count": 2,
   "metadata": {},
   "outputs": [],
   "source": [
    "HOUSING_PATH = \"data/\" \n",
    "def load_apple_data(housing_path=HOUSING_PATH):    \n",
    "    csv_path1 = os.path.join(housing_path, \"AppleStore.csv\")\n",
    "    csv_path2 = os.path.join(housing_path, \"appleStore_description.csv\")   \n",
    "    return pd.read_csv(csv_path1), pd.read_csv(csv_path2)"
   ]
  },
  {
   "cell_type": "code",
   "execution_count": 3,
   "metadata": {
    "scrolled": false
   },
   "outputs": [
    {
     "name": "stdout",
     "output_type": "stream",
     "text": [
      "Размер датасета данных магазина: (7197, 17)\n"
     ]
    },
    {
     "data": {
      "text/html": [
       "<div>\n",
       "<style scoped>\n",
       "    .dataframe tbody tr th:only-of-type {\n",
       "        vertical-align: middle;\n",
       "    }\n",
       "\n",
       "    .dataframe tbody tr th {\n",
       "        vertical-align: top;\n",
       "    }\n",
       "\n",
       "    .dataframe thead th {\n",
       "        text-align: right;\n",
       "    }\n",
       "</style>\n",
       "<table border=\"1\" class=\"dataframe\">\n",
       "  <thead>\n",
       "    <tr style=\"text-align: right;\">\n",
       "      <th></th>\n",
       "      <th>Unnamed: 0</th>\n",
       "      <th>id</th>\n",
       "      <th>track_name</th>\n",
       "      <th>size_bytes</th>\n",
       "      <th>currency</th>\n",
       "      <th>price</th>\n",
       "      <th>rating_count_tot</th>\n",
       "      <th>rating_count_ver</th>\n",
       "      <th>user_rating</th>\n",
       "      <th>user_rating_ver</th>\n",
       "      <th>ver</th>\n",
       "      <th>cont_rating</th>\n",
       "      <th>prime_genre</th>\n",
       "      <th>sup_devices.num</th>\n",
       "      <th>ipadSc_urls.num</th>\n",
       "      <th>lang.num</th>\n",
       "      <th>vpp_lic</th>\n",
       "    </tr>\n",
       "  </thead>\n",
       "  <tbody>\n",
       "    <tr>\n",
       "      <th>0</th>\n",
       "      <td>1</td>\n",
       "      <td>281656475</td>\n",
       "      <td>PAC-MAN Premium</td>\n",
       "      <td>100788224</td>\n",
       "      <td>USD</td>\n",
       "      <td>3.99</td>\n",
       "      <td>21292</td>\n",
       "      <td>26</td>\n",
       "      <td>4.0</td>\n",
       "      <td>4.5</td>\n",
       "      <td>6.3.5</td>\n",
       "      <td>4+</td>\n",
       "      <td>Games</td>\n",
       "      <td>38</td>\n",
       "      <td>5</td>\n",
       "      <td>10</td>\n",
       "      <td>1</td>\n",
       "    </tr>\n",
       "    <tr>\n",
       "      <th>1</th>\n",
       "      <td>2</td>\n",
       "      <td>281796108</td>\n",
       "      <td>Evernote - stay organized</td>\n",
       "      <td>158578688</td>\n",
       "      <td>USD</td>\n",
       "      <td>0.00</td>\n",
       "      <td>161065</td>\n",
       "      <td>26</td>\n",
       "      <td>4.0</td>\n",
       "      <td>3.5</td>\n",
       "      <td>8.2.2</td>\n",
       "      <td>4+</td>\n",
       "      <td>Productivity</td>\n",
       "      <td>37</td>\n",
       "      <td>5</td>\n",
       "      <td>23</td>\n",
       "      <td>1</td>\n",
       "    </tr>\n",
       "    <tr>\n",
       "      <th>2</th>\n",
       "      <td>3</td>\n",
       "      <td>281940292</td>\n",
       "      <td>WeatherBug - Local Weather, Radar, Maps, Alerts</td>\n",
       "      <td>100524032</td>\n",
       "      <td>USD</td>\n",
       "      <td>0.00</td>\n",
       "      <td>188583</td>\n",
       "      <td>2822</td>\n",
       "      <td>3.5</td>\n",
       "      <td>4.5</td>\n",
       "      <td>5.0.0</td>\n",
       "      <td>4+</td>\n",
       "      <td>Weather</td>\n",
       "      <td>37</td>\n",
       "      <td>5</td>\n",
       "      <td>3</td>\n",
       "      <td>1</td>\n",
       "    </tr>\n",
       "  </tbody>\n",
       "</table>\n",
       "</div>"
      ],
      "text/plain": [
       "   Unnamed: 0         id                                       track_name  \\\n",
       "0           1  281656475                                  PAC-MAN Premium   \n",
       "1           2  281796108                        Evernote - stay organized   \n",
       "2           3  281940292  WeatherBug - Local Weather, Radar, Maps, Alerts   \n",
       "\n",
       "   size_bytes currency  price  rating_count_tot  rating_count_ver  \\\n",
       "0   100788224      USD   3.99             21292                26   \n",
       "1   158578688      USD   0.00            161065                26   \n",
       "2   100524032      USD   0.00            188583              2822   \n",
       "\n",
       "   user_rating  user_rating_ver    ver cont_rating   prime_genre  \\\n",
       "0          4.0              4.5  6.3.5          4+         Games   \n",
       "1          4.0              3.5  8.2.2          4+  Productivity   \n",
       "2          3.5              4.5  5.0.0          4+       Weather   \n",
       "\n",
       "   sup_devices.num  ipadSc_urls.num  lang.num  vpp_lic  \n",
       "0               38                5        10        1  \n",
       "1               37                5        23        1  \n",
       "2               37                5         3        1  "
      ]
     },
     "execution_count": 3,
     "metadata": {},
     "output_type": "execute_result"
    }
   ],
   "source": [
    "apple_df, description_df = load_apple_data()\n",
    "\n",
    "print(\"Размер датасета данных магазина:\", apple_df.shape)\n",
    "\n",
    "apple_df.head(3)"
   ]
  },
  {
   "cell_type": "code",
   "execution_count": 4,
   "metadata": {},
   "outputs": [
    {
     "name": "stdout",
     "output_type": "stream",
     "text": [
      "Размер датасета описаний приложений: (7197, 4)\n"
     ]
    },
    {
     "data": {
      "text/html": [
       "<div>\n",
       "<style scoped>\n",
       "    .dataframe tbody tr th:only-of-type {\n",
       "        vertical-align: middle;\n",
       "    }\n",
       "\n",
       "    .dataframe tbody tr th {\n",
       "        vertical-align: top;\n",
       "    }\n",
       "\n",
       "    .dataframe thead th {\n",
       "        text-align: right;\n",
       "    }\n",
       "</style>\n",
       "<table border=\"1\" class=\"dataframe\">\n",
       "  <thead>\n",
       "    <tr style=\"text-align: right;\">\n",
       "      <th></th>\n",
       "      <th>id</th>\n",
       "      <th>track_name</th>\n",
       "      <th>size_bytes</th>\n",
       "      <th>app_desc</th>\n",
       "    </tr>\n",
       "  </thead>\n",
       "  <tbody>\n",
       "    <tr>\n",
       "      <th>0</th>\n",
       "      <td>281656475</td>\n",
       "      <td>PAC-MAN Premium</td>\n",
       "      <td>100788224</td>\n",
       "      <td>SAVE 20%, now only $3.99 for a limited time!\\n...</td>\n",
       "    </tr>\n",
       "    <tr>\n",
       "      <th>1</th>\n",
       "      <td>281796108</td>\n",
       "      <td>Evernote - stay organized</td>\n",
       "      <td>158578688</td>\n",
       "      <td>Let Evernote change the way you organize your ...</td>\n",
       "    </tr>\n",
       "    <tr>\n",
       "      <th>2</th>\n",
       "      <td>281940292</td>\n",
       "      <td>WeatherBug - Local Weather, Radar, Maps, Alerts</td>\n",
       "      <td>100524032</td>\n",
       "      <td>Download the most popular free weather app pow...</td>\n",
       "    </tr>\n",
       "    <tr>\n",
       "      <th>3</th>\n",
       "      <td>282614216</td>\n",
       "      <td>eBay: Best App to Buy, Sell, Save! Online Shop...</td>\n",
       "      <td>128512000</td>\n",
       "      <td>The eBay app is the best way to find anything ...</td>\n",
       "    </tr>\n",
       "    <tr>\n",
       "      <th>4</th>\n",
       "      <td>282935706</td>\n",
       "      <td>Bible</td>\n",
       "      <td>92774400</td>\n",
       "      <td>On more than 250 million devices around the wo...</td>\n",
       "    </tr>\n",
       "    <tr>\n",
       "      <th>5</th>\n",
       "      <td>283619399</td>\n",
       "      <td>Shanghai Mahjong</td>\n",
       "      <td>10485713</td>\n",
       "      <td>★ WINNER \"BEST GAME\" 2009\\n★ 3rd PLACE WINNER ...</td>\n",
       "    </tr>\n",
       "    <tr>\n",
       "      <th>6</th>\n",
       "      <td>283646709</td>\n",
       "      <td>PayPal - Send and request money safely</td>\n",
       "      <td>227795968</td>\n",
       "      <td>Description\\nTAP INTO YOUR MONEY\\nSend money o...</td>\n",
       "    </tr>\n",
       "  </tbody>\n",
       "</table>\n",
       "</div>"
      ],
      "text/plain": [
       "          id                                         track_name  size_bytes  \\\n",
       "0  281656475                                    PAC-MAN Premium   100788224   \n",
       "1  281796108                          Evernote - stay organized   158578688   \n",
       "2  281940292    WeatherBug - Local Weather, Radar, Maps, Alerts   100524032   \n",
       "3  282614216  eBay: Best App to Buy, Sell, Save! Online Shop...   128512000   \n",
       "4  282935706                                              Bible    92774400   \n",
       "5  283619399                                   Shanghai Mahjong    10485713   \n",
       "6  283646709             PayPal - Send and request money safely   227795968   \n",
       "\n",
       "                                            app_desc  \n",
       "0  SAVE 20%, now only $3.99 for a limited time!\\n...  \n",
       "1  Let Evernote change the way you organize your ...  \n",
       "2  Download the most popular free weather app pow...  \n",
       "3  The eBay app is the best way to find anything ...  \n",
       "4  On more than 250 million devices around the wo...  \n",
       "5  ★ WINNER \"BEST GAME\" 2009\\n★ 3rd PLACE WINNER ...  \n",
       "6  Description\\nTAP INTO YOUR MONEY\\nSend money o...  "
      ]
     },
     "execution_count": 4,
     "metadata": {},
     "output_type": "execute_result"
    }
   ],
   "source": [
    "print(\"Размер датасета описаний приложений:\", description_df.shape)\n",
    "\n",
    "description_df.head(7)"
   ]
  },
  {
   "cell_type": "markdown",
   "metadata": {},
   "source": [
    "### Посмотрим на содержание датасета"
   ]
  },
  {
   "cell_type": "markdown",
   "metadata": {},
   "source": [
    "Получим полный список колонок  в датасетах c информацией:"
   ]
  },
  {
   "cell_type": "code",
   "execution_count": 5,
   "metadata": {},
   "outputs": [
    {
     "name": "stdout",
     "output_type": "stream",
     "text": [
      "<class 'pandas.core.frame.DataFrame'>\n",
      "RangeIndex: 7197 entries, 0 to 7196\n",
      "Data columns (total 17 columns):\n",
      " #   Column            Non-Null Count  Dtype  \n",
      "---  ------            --------------  -----  \n",
      " 0   Unnamed: 0        7197 non-null   int64  \n",
      " 1   id                7197 non-null   int64  \n",
      " 2   track_name        7197 non-null   object \n",
      " 3   size_bytes        7197 non-null   int64  \n",
      " 4   currency          7197 non-null   object \n",
      " 5   price             7197 non-null   float64\n",
      " 6   rating_count_tot  7197 non-null   int64  \n",
      " 7   rating_count_ver  7197 non-null   int64  \n",
      " 8   user_rating       7197 non-null   float64\n",
      " 9   user_rating_ver   7197 non-null   float64\n",
      " 10  ver               7197 non-null   object \n",
      " 11  cont_rating       7197 non-null   object \n",
      " 12  prime_genre       7197 non-null   object \n",
      " 13  sup_devices.num   7197 non-null   int64  \n",
      " 14  ipadSc_urls.num   7197 non-null   int64  \n",
      " 15  lang.num          7197 non-null   int64  \n",
      " 16  vpp_lic           7197 non-null   int64  \n",
      "dtypes: float64(3), int64(9), object(5)\n",
      "memory usage: 956.0+ KB\n"
     ]
    }
   ],
   "source": [
    "apple_df.info()"
   ]
  },
  {
   "cell_type": "code",
   "execution_count": 6,
   "metadata": {},
   "outputs": [
    {
     "name": "stdout",
     "output_type": "stream",
     "text": [
      "<class 'pandas.core.frame.DataFrame'>\n",
      "RangeIndex: 7197 entries, 0 to 7196\n",
      "Data columns (total 4 columns):\n",
      " #   Column      Non-Null Count  Dtype \n",
      "---  ------      --------------  ----- \n",
      " 0   id          7197 non-null   int64 \n",
      " 1   track_name  7197 non-null   object\n",
      " 2   size_bytes  7197 non-null   int64 \n",
      " 3   app_desc    7197 non-null   object\n",
      "dtypes: int64(2), object(2)\n",
      "memory usage: 225.0+ KB\n"
     ]
    }
   ],
   "source": [
    "description_df.info()"
   ]
  },
  {
   "cell_type": "markdown",
   "metadata": {},
   "source": [
    "Из описания можем увидеть, что имеются нечисловые колонки, с которыми придется работать.\n",
    "\n",
    "Стоит отметить, что в данных нет пропусков, что упрощает работу."
   ]
  },
  {
   "cell_type": "code",
   "execution_count": 7,
   "metadata": {},
   "outputs": [
    {
     "data": {
      "text/html": [
       "<div>\n",
       "<style scoped>\n",
       "    .dataframe tbody tr th:only-of-type {\n",
       "        vertical-align: middle;\n",
       "    }\n",
       "\n",
       "    .dataframe tbody tr th {\n",
       "        vertical-align: top;\n",
       "    }\n",
       "\n",
       "    .dataframe thead th {\n",
       "        text-align: right;\n",
       "    }\n",
       "</style>\n",
       "<table border=\"1\" class=\"dataframe\">\n",
       "  <thead>\n",
       "    <tr style=\"text-align: right;\">\n",
       "      <th></th>\n",
       "      <th>Unnamed: 0</th>\n",
       "      <th>id</th>\n",
       "      <th>track_name</th>\n",
       "      <th>size_bytes</th>\n",
       "      <th>currency</th>\n",
       "      <th>price</th>\n",
       "      <th>rating_count_tot</th>\n",
       "      <th>rating_count_ver</th>\n",
       "      <th>user_rating</th>\n",
       "      <th>user_rating_ver</th>\n",
       "      <th>ver</th>\n",
       "      <th>cont_rating</th>\n",
       "      <th>prime_genre</th>\n",
       "      <th>sup_devices.num</th>\n",
       "      <th>ipadSc_urls.num</th>\n",
       "      <th>lang.num</th>\n",
       "      <th>vpp_lic</th>\n",
       "    </tr>\n",
       "  </thead>\n",
       "  <tbody>\n",
       "    <tr>\n",
       "      <th>count</th>\n",
       "      <td>7197.000000</td>\n",
       "      <td>7.197000e+03</td>\n",
       "      <td>7197</td>\n",
       "      <td>7.197000e+03</td>\n",
       "      <td>7197</td>\n",
       "      <td>7197.000000</td>\n",
       "      <td>7.197000e+03</td>\n",
       "      <td>7197.000000</td>\n",
       "      <td>7197.000000</td>\n",
       "      <td>7197.000000</td>\n",
       "      <td>7197</td>\n",
       "      <td>7197</td>\n",
       "      <td>7197</td>\n",
       "      <td>7197.000000</td>\n",
       "      <td>7197.000000</td>\n",
       "      <td>7197.000000</td>\n",
       "      <td>7197.000000</td>\n",
       "    </tr>\n",
       "    <tr>\n",
       "      <th>unique</th>\n",
       "      <td>NaN</td>\n",
       "      <td>NaN</td>\n",
       "      <td>7195</td>\n",
       "      <td>NaN</td>\n",
       "      <td>1</td>\n",
       "      <td>NaN</td>\n",
       "      <td>NaN</td>\n",
       "      <td>NaN</td>\n",
       "      <td>NaN</td>\n",
       "      <td>NaN</td>\n",
       "      <td>1590</td>\n",
       "      <td>4</td>\n",
       "      <td>23</td>\n",
       "      <td>NaN</td>\n",
       "      <td>NaN</td>\n",
       "      <td>NaN</td>\n",
       "      <td>NaN</td>\n",
       "    </tr>\n",
       "    <tr>\n",
       "      <th>top</th>\n",
       "      <td>NaN</td>\n",
       "      <td>NaN</td>\n",
       "      <td>Mannequin Challenge</td>\n",
       "      <td>NaN</td>\n",
       "      <td>USD</td>\n",
       "      <td>NaN</td>\n",
       "      <td>NaN</td>\n",
       "      <td>NaN</td>\n",
       "      <td>NaN</td>\n",
       "      <td>NaN</td>\n",
       "      <td>1.0</td>\n",
       "      <td>4+</td>\n",
       "      <td>Games</td>\n",
       "      <td>NaN</td>\n",
       "      <td>NaN</td>\n",
       "      <td>NaN</td>\n",
       "      <td>NaN</td>\n",
       "    </tr>\n",
       "    <tr>\n",
       "      <th>freq</th>\n",
       "      <td>NaN</td>\n",
       "      <td>NaN</td>\n",
       "      <td>2</td>\n",
       "      <td>NaN</td>\n",
       "      <td>7197</td>\n",
       "      <td>NaN</td>\n",
       "      <td>NaN</td>\n",
       "      <td>NaN</td>\n",
       "      <td>NaN</td>\n",
       "      <td>NaN</td>\n",
       "      <td>317</td>\n",
       "      <td>4433</td>\n",
       "      <td>3862</td>\n",
       "      <td>NaN</td>\n",
       "      <td>NaN</td>\n",
       "      <td>NaN</td>\n",
       "      <td>NaN</td>\n",
       "    </tr>\n",
       "    <tr>\n",
       "      <th>mean</th>\n",
       "      <td>4759.069612</td>\n",
       "      <td>8.631310e+08</td>\n",
       "      <td>NaN</td>\n",
       "      <td>1.991345e+08</td>\n",
       "      <td>NaN</td>\n",
       "      <td>1.726218</td>\n",
       "      <td>1.289291e+04</td>\n",
       "      <td>460.373906</td>\n",
       "      <td>3.526956</td>\n",
       "      <td>3.253578</td>\n",
       "      <td>NaN</td>\n",
       "      <td>NaN</td>\n",
       "      <td>NaN</td>\n",
       "      <td>37.361817</td>\n",
       "      <td>3.707100</td>\n",
       "      <td>5.434903</td>\n",
       "      <td>0.993053</td>\n",
       "    </tr>\n",
       "    <tr>\n",
       "      <th>std</th>\n",
       "      <td>3093.625213</td>\n",
       "      <td>2.712368e+08</td>\n",
       "      <td>NaN</td>\n",
       "      <td>3.592069e+08</td>\n",
       "      <td>NaN</td>\n",
       "      <td>5.833006</td>\n",
       "      <td>7.573941e+04</td>\n",
       "      <td>3920.455183</td>\n",
       "      <td>1.517948</td>\n",
       "      <td>1.809363</td>\n",
       "      <td>NaN</td>\n",
       "      <td>NaN</td>\n",
       "      <td>NaN</td>\n",
       "      <td>3.737715</td>\n",
       "      <td>1.986005</td>\n",
       "      <td>7.919593</td>\n",
       "      <td>0.083066</td>\n",
       "    </tr>\n",
       "    <tr>\n",
       "      <th>min</th>\n",
       "      <td>1.000000</td>\n",
       "      <td>2.816565e+08</td>\n",
       "      <td>NaN</td>\n",
       "      <td>5.898240e+05</td>\n",
       "      <td>NaN</td>\n",
       "      <td>0.000000</td>\n",
       "      <td>0.000000e+00</td>\n",
       "      <td>0.000000</td>\n",
       "      <td>0.000000</td>\n",
       "      <td>0.000000</td>\n",
       "      <td>NaN</td>\n",
       "      <td>NaN</td>\n",
       "      <td>NaN</td>\n",
       "      <td>9.000000</td>\n",
       "      <td>0.000000</td>\n",
       "      <td>0.000000</td>\n",
       "      <td>0.000000</td>\n",
       "    </tr>\n",
       "    <tr>\n",
       "      <th>25%</th>\n",
       "      <td>2090.000000</td>\n",
       "      <td>6.000937e+08</td>\n",
       "      <td>NaN</td>\n",
       "      <td>4.692275e+07</td>\n",
       "      <td>NaN</td>\n",
       "      <td>0.000000</td>\n",
       "      <td>2.800000e+01</td>\n",
       "      <td>1.000000</td>\n",
       "      <td>3.500000</td>\n",
       "      <td>2.500000</td>\n",
       "      <td>NaN</td>\n",
       "      <td>NaN</td>\n",
       "      <td>NaN</td>\n",
       "      <td>37.000000</td>\n",
       "      <td>3.000000</td>\n",
       "      <td>1.000000</td>\n",
       "      <td>1.000000</td>\n",
       "    </tr>\n",
       "    <tr>\n",
       "      <th>50%</th>\n",
       "      <td>4380.000000</td>\n",
       "      <td>9.781482e+08</td>\n",
       "      <td>NaN</td>\n",
       "      <td>9.715302e+07</td>\n",
       "      <td>NaN</td>\n",
       "      <td>0.000000</td>\n",
       "      <td>3.000000e+02</td>\n",
       "      <td>23.000000</td>\n",
       "      <td>4.000000</td>\n",
       "      <td>4.000000</td>\n",
       "      <td>NaN</td>\n",
       "      <td>NaN</td>\n",
       "      <td>NaN</td>\n",
       "      <td>37.000000</td>\n",
       "      <td>5.000000</td>\n",
       "      <td>1.000000</td>\n",
       "      <td>1.000000</td>\n",
       "    </tr>\n",
       "    <tr>\n",
       "      <th>75%</th>\n",
       "      <td>7223.000000</td>\n",
       "      <td>1.082310e+09</td>\n",
       "      <td>NaN</td>\n",
       "      <td>1.819249e+08</td>\n",
       "      <td>NaN</td>\n",
       "      <td>1.990000</td>\n",
       "      <td>2.793000e+03</td>\n",
       "      <td>140.000000</td>\n",
       "      <td>4.500000</td>\n",
       "      <td>4.500000</td>\n",
       "      <td>NaN</td>\n",
       "      <td>NaN</td>\n",
       "      <td>NaN</td>\n",
       "      <td>38.000000</td>\n",
       "      <td>5.000000</td>\n",
       "      <td>8.000000</td>\n",
       "      <td>1.000000</td>\n",
       "    </tr>\n",
       "    <tr>\n",
       "      <th>max</th>\n",
       "      <td>11097.000000</td>\n",
       "      <td>1.188376e+09</td>\n",
       "      <td>NaN</td>\n",
       "      <td>4.025970e+09</td>\n",
       "      <td>NaN</td>\n",
       "      <td>299.990000</td>\n",
       "      <td>2.974676e+06</td>\n",
       "      <td>177050.000000</td>\n",
       "      <td>5.000000</td>\n",
       "      <td>5.000000</td>\n",
       "      <td>NaN</td>\n",
       "      <td>NaN</td>\n",
       "      <td>NaN</td>\n",
       "      <td>47.000000</td>\n",
       "      <td>5.000000</td>\n",
       "      <td>75.000000</td>\n",
       "      <td>1.000000</td>\n",
       "    </tr>\n",
       "  </tbody>\n",
       "</table>\n",
       "</div>"
      ],
      "text/plain": [
       "          Unnamed: 0            id           track_name    size_bytes  \\\n",
       "count    7197.000000  7.197000e+03                 7197  7.197000e+03   \n",
       "unique           NaN           NaN                 7195           NaN   \n",
       "top              NaN           NaN  Mannequin Challenge           NaN   \n",
       "freq             NaN           NaN                    2           NaN   \n",
       "mean     4759.069612  8.631310e+08                  NaN  1.991345e+08   \n",
       "std      3093.625213  2.712368e+08                  NaN  3.592069e+08   \n",
       "min         1.000000  2.816565e+08                  NaN  5.898240e+05   \n",
       "25%      2090.000000  6.000937e+08                  NaN  4.692275e+07   \n",
       "50%      4380.000000  9.781482e+08                  NaN  9.715302e+07   \n",
       "75%      7223.000000  1.082310e+09                  NaN  1.819249e+08   \n",
       "max     11097.000000  1.188376e+09                  NaN  4.025970e+09   \n",
       "\n",
       "       currency        price  rating_count_tot  rating_count_ver  user_rating  \\\n",
       "count      7197  7197.000000      7.197000e+03       7197.000000  7197.000000   \n",
       "unique        1          NaN               NaN               NaN          NaN   \n",
       "top         USD          NaN               NaN               NaN          NaN   \n",
       "freq       7197          NaN               NaN               NaN          NaN   \n",
       "mean        NaN     1.726218      1.289291e+04        460.373906     3.526956   \n",
       "std         NaN     5.833006      7.573941e+04       3920.455183     1.517948   \n",
       "min         NaN     0.000000      0.000000e+00          0.000000     0.000000   \n",
       "25%         NaN     0.000000      2.800000e+01          1.000000     3.500000   \n",
       "50%         NaN     0.000000      3.000000e+02         23.000000     4.000000   \n",
       "75%         NaN     1.990000      2.793000e+03        140.000000     4.500000   \n",
       "max         NaN   299.990000      2.974676e+06     177050.000000     5.000000   \n",
       "\n",
       "        user_rating_ver   ver cont_rating prime_genre  sup_devices.num  \\\n",
       "count       7197.000000  7197        7197        7197      7197.000000   \n",
       "unique              NaN  1590           4          23              NaN   \n",
       "top                 NaN   1.0          4+       Games              NaN   \n",
       "freq                NaN   317        4433        3862              NaN   \n",
       "mean           3.253578   NaN         NaN         NaN        37.361817   \n",
       "std            1.809363   NaN         NaN         NaN         3.737715   \n",
       "min            0.000000   NaN         NaN         NaN         9.000000   \n",
       "25%            2.500000   NaN         NaN         NaN        37.000000   \n",
       "50%            4.000000   NaN         NaN         NaN        37.000000   \n",
       "75%            4.500000   NaN         NaN         NaN        38.000000   \n",
       "max            5.000000   NaN         NaN         NaN        47.000000   \n",
       "\n",
       "        ipadSc_urls.num     lang.num      vpp_lic  \n",
       "count       7197.000000  7197.000000  7197.000000  \n",
       "unique              NaN          NaN          NaN  \n",
       "top                 NaN          NaN          NaN  \n",
       "freq                NaN          NaN          NaN  \n",
       "mean           3.707100     5.434903     0.993053  \n",
       "std            1.986005     7.919593     0.083066  \n",
       "min            0.000000     0.000000     0.000000  \n",
       "25%            3.000000     1.000000     1.000000  \n",
       "50%            5.000000     1.000000     1.000000  \n",
       "75%            5.000000     8.000000     1.000000  \n",
       "max            5.000000    75.000000     1.000000  "
      ]
     },
     "execution_count": 7,
     "metadata": {},
     "output_type": "execute_result"
    }
   ],
   "source": [
    "apple_df.describe(include=\"all\")"
   ]
  },
  {
   "cell_type": "markdown",
   "metadata": {},
   "source": [
    "### Удалим бесполезные данные"
   ]
  },
  {
   "cell_type": "markdown",
   "metadata": {},
   "source": [
    "Колонка **currency** имеет одно значение для всех наблюдений, поэтому не несет никакой полезной информации.\n",
    "\n",
    "Столбец **Unnamed: 0** просто дублирует номер записи в таблице, поэтому он также неинформативен."
   ]
  },
  {
   "cell_type": "code",
   "execution_count": 8,
   "metadata": {},
   "outputs": [],
   "source": [
    "apple_df.drop(['currency', 'Unnamed: 0'], axis = 1, inplace = True)"
   ]
  },
  {
   "cell_type": "markdown",
   "metadata": {},
   "source": [
    "### Объединим датасеты"
   ]
  },
  {
   "cell_type": "markdown",
   "metadata": {},
   "source": [
    "Мы можем объединить 2 датасета по колонке **id** для упрощенной работы с данными."
   ]
  },
  {
   "cell_type": "code",
   "execution_count": 9,
   "metadata": {},
   "outputs": [],
   "source": [
    "apple_df = apple_df.merge(description_df, copy = False)\n",
    "description_df = None"
   ]
  },
  {
   "cell_type": "markdown",
   "metadata": {},
   "source": [
    "К датасету добавилась одна колонка с описанием, поскольку остальные колонки второго датасета дублировали информацию из первого."
   ]
  },
  {
   "cell_type": "code",
   "execution_count": 10,
   "metadata": {},
   "outputs": [
    {
     "name": "stdout",
     "output_type": "stream",
     "text": [
      "<class 'pandas.core.frame.DataFrame'>\n",
      "Int64Index: 7197 entries, 0 to 7196\n",
      "Data columns (total 16 columns):\n",
      " #   Column            Non-Null Count  Dtype  \n",
      "---  ------            --------------  -----  \n",
      " 0   id                7197 non-null   int64  \n",
      " 1   track_name        7197 non-null   object \n",
      " 2   size_bytes        7197 non-null   int64  \n",
      " 3   price             7197 non-null   float64\n",
      " 4   rating_count_tot  7197 non-null   int64  \n",
      " 5   rating_count_ver  7197 non-null   int64  \n",
      " 6   user_rating       7197 non-null   float64\n",
      " 7   user_rating_ver   7197 non-null   float64\n",
      " 8   ver               7197 non-null   object \n",
      " 9   cont_rating       7197 non-null   object \n",
      " 10  prime_genre       7197 non-null   object \n",
      " 11  sup_devices.num   7197 non-null   int64  \n",
      " 12  ipadSc_urls.num   7197 non-null   int64  \n",
      " 13  lang.num          7197 non-null   int64  \n",
      " 14  vpp_lic           7197 non-null   int64  \n",
      " 15  app_desc          7197 non-null   object \n",
      "dtypes: float64(3), int64(8), object(5)\n",
      "memory usage: 955.9+ KB\n"
     ]
    }
   ],
   "source": [
    "apple_df.info()"
   ]
  },
  {
   "cell_type": "markdown",
   "metadata": {},
   "source": [
    "После объединения сетов можно избавится от неинформативной колонки **id**."
   ]
  },
  {
   "cell_type": "code",
   "execution_count": 11,
   "metadata": {},
   "outputs": [],
   "source": [
    "apple_df.drop('id', axis = 1, inplace = True)"
   ]
  },
  {
   "cell_type": "markdown",
   "metadata": {},
   "source": [
    "### Разберемся с нечисловыми колонками"
   ]
  },
  {
   "cell_type": "markdown",
   "metadata": {},
   "source": [
    "Нечисловые колонки выделим в отдельный датасет, чтобы потом объединить обработанные столбцы нечисловые с обработанными числовыми. "
   ]
  },
  {
   "cell_type": "code",
   "execution_count": 12,
   "metadata": {},
   "outputs": [],
   "source": [
    "non_num_cols = ['ver', 'cont_rating', 'prime_genre', 'app_desc', 'track_name']\n",
    "first_df = apple_df[non_num_cols]\n",
    "second_df = apple_df.drop(non_num_cols, axis = 1)"
   ]
  },
  {
   "cell_type": "markdown",
   "metadata": {},
   "source": [
    "#### Колонка ver"
   ]
  },
  {
   "cell_type": "markdown",
   "metadata": {},
   "source": [
    "Колонка **ver** хранит версии приложений, записанные в большинстве случаев в формате: *v1.v2.v3*. Создадим взамен 3 новых колонки **v1**, **v2**, **v3**."
   ]
  },
  {
   "cell_type": "markdown",
   "metadata": {},
   "source": [
    "Однако не все наблюдения соответствуют стандартной записи версии приложения, поэтому обнаружим и преобразуем такие данные вручную с помощью простейших преобразований."
   ]
  },
  {
   "cell_type": "markdown",
   "metadata": {},
   "source": [
    "Данные без разделяющей точки оказались числовыми."
   ]
  },
  {
   "cell_type": "code",
   "execution_count": 13,
   "metadata": {
    "scrolled": true
   },
   "outputs": [
    {
     "data": {
      "text/plain": [
       "array(['114', '5', '22', '337', '10', '111', '2', '2023', '1', '3348',\n",
       "       '54', '150', '2000', '15', '708', '18', '104', '3', '4', '11',\n",
       "       '12', '6'], dtype=object)"
      ]
     },
     "execution_count": 13,
     "metadata": {},
     "output_type": "execute_result"
    }
   ],
   "source": [
    "first_df[~apple_df['ver'].str.contains('.', regex = False)].ver.unique()"
   ]
  },
  {
   "cell_type": "markdown",
   "metadata": {},
   "source": [
    "Данные с разделяющей точкой, но с которыми также не все в порядке:"
   ]
  },
  {
   "cell_type": "code",
   "execution_count": 14,
   "metadata": {},
   "outputs": [],
   "source": [
    "v_seria = first_df.ver.str.split(pat = '.')"
   ]
  },
  {
   "cell_type": "code",
   "execution_count": 15,
   "metadata": {},
   "outputs": [
    {
     "data": {
      "text/plain": [
       "224     [iOV 2, 1, 3]\n",
       "1133      [v2, 13, 9]\n",
       "3092       [v3, 6, 9]\n",
       "3224      [v2, 2, 21]\n",
       "3581         [1,2, 4]\n",
       "3668       [V3, 7, 0]\n",
       "4121        [v1, 865]\n",
       "4176    [Update 1, 1]\n",
       "Name: ver, dtype: object"
      ]
     },
     "execution_count": 15,
     "metadata": {},
     "output_type": "execute_result"
    }
   ],
   "source": [
    "v_seria[~v_seria.str[0].str.isdigit()]"
   ]
  },
  {
   "cell_type": "code",
   "execution_count": 16,
   "metadata": {},
   "outputs": [
    {
     "data": {
      "text/plain": [
       "2849    [1, 025b]\n",
       "Name: ver, dtype: object"
      ]
     },
     "execution_count": 16,
     "metadata": {},
     "output_type": "execute_result"
    }
   ],
   "source": [
    "v_seria[v_seria.str[1].notna()][~v_seria[v_seria.str[1].notna()].str[1].str.isdigit()]"
   ]
  },
  {
   "cell_type": "code",
   "execution_count": 17,
   "metadata": {},
   "outputs": [
    {
     "data": {
      "text/plain": [
       "6511    [1, 2, 3 Build 19]\n",
       "6777              [1, 3, ]\n",
       "Name: ver, dtype: object"
      ]
     },
     "execution_count": 17,
     "metadata": {},
     "output_type": "execute_result"
    }
   ],
   "source": [
    "v_seria[v_seria.str[2].notna()][~v_seria[v_seria.str[2].notna()].str[2].str.isdigit()]"
   ]
  },
  {
   "cell_type": "markdown",
   "metadata": {},
   "source": [
    "Создадим 3 новых колонки."
   ]
  },
  {
   "cell_type": "code",
   "execution_count": 18,
   "metadata": {},
   "outputs": [],
   "source": [
    "first_df['v1'] = v_seria.str[0]\n",
    "first_df['v2'] = v_seria.str[1]\n",
    "first_df['v3'] = v_seria.str[2]"
   ]
  },
  {
   "cell_type": "markdown",
   "metadata": {},
   "source": [
    "И преобразуем значения в них."
   ]
  },
  {
   "cell_type": "code",
   "execution_count": 19,
   "metadata": {},
   "outputs": [],
   "source": [
    "first_df.loc[[224, 1133, 3224], 'v1'] = 2\n",
    "first_df.loc[[3581, 4121, 4176], 'v1'] = 1\n",
    "first_df.loc[[3092, 3668], 'v1'] = 3\n",
    "\n",
    "first_df.loc[[2849], 'v2'] = 25\n",
    "first_df.loc[[2849], 'v3'] = 2\n",
    "\n",
    "first_df.loc[[6511], 'v3'] = 3\n",
    "first_df.loc[[6777], 'v3'] = 0"
   ]
  },
  {
   "cell_type": "markdown",
   "metadata": {},
   "source": [
    "Для значений типа *v1* и *v1.v2* заполним нулями остальные столбцы."
   ]
  },
  {
   "cell_type": "code",
   "execution_count": 20,
   "metadata": {},
   "outputs": [],
   "source": [
    "first_df.loc[first_df['v2'].isna(), 'v2'] = 0\n",
    "first_df.loc[first_df['v3'].isna(), 'v3'] = 0"
   ]
  },
  {
   "cell_type": "markdown",
   "metadata": {},
   "source": [
    "Преобразуем эти столбцы к числовому типу."
   ]
  },
  {
   "cell_type": "code",
   "execution_count": 21,
   "metadata": {},
   "outputs": [],
   "source": [
    "first_df['v1'] = first_df['v1'].astype('int32')\n",
    "first_df['v2'] = first_df['v2'].astype('int32')\n",
    "first_df['v3'] = first_df['v3'].astype('int32')"
   ]
  },
  {
   "cell_type": "code",
   "execution_count": 22,
   "metadata": {},
   "outputs": [
    {
     "data": {
      "text/html": [
       "<div>\n",
       "<style scoped>\n",
       "    .dataframe tbody tr th:only-of-type {\n",
       "        vertical-align: middle;\n",
       "    }\n",
       "\n",
       "    .dataframe tbody tr th {\n",
       "        vertical-align: top;\n",
       "    }\n",
       "\n",
       "    .dataframe thead th {\n",
       "        text-align: right;\n",
       "    }\n",
       "</style>\n",
       "<table border=\"1\" class=\"dataframe\">\n",
       "  <thead>\n",
       "    <tr style=\"text-align: right;\">\n",
       "      <th></th>\n",
       "      <th>v1</th>\n",
       "      <th>v2</th>\n",
       "      <th>v3</th>\n",
       "    </tr>\n",
       "  </thead>\n",
       "  <tbody>\n",
       "    <tr>\n",
       "      <th>count</th>\n",
       "      <td>7197.000000</td>\n",
       "      <td>7197.000000</td>\n",
       "      <td>7.197000e+03</td>\n",
       "    </tr>\n",
       "    <tr>\n",
       "      <th>mean</th>\n",
       "      <td>16.580520</td>\n",
       "      <td>130.792830</td>\n",
       "      <td>3.168028e+05</td>\n",
       "    </tr>\n",
       "    <tr>\n",
       "      <th>std</th>\n",
       "      <td>342.731897</td>\n",
       "      <td>8577.612116</td>\n",
       "      <td>2.396124e+07</td>\n",
       "    </tr>\n",
       "    <tr>\n",
       "      <th>min</th>\n",
       "      <td>0.000000</td>\n",
       "      <td>0.000000</td>\n",
       "      <td>0.000000e+00</td>\n",
       "    </tr>\n",
       "    <tr>\n",
       "      <th>25%</th>\n",
       "      <td>1.000000</td>\n",
       "      <td>0.000000</td>\n",
       "      <td>0.000000e+00</td>\n",
       "    </tr>\n",
       "    <tr>\n",
       "      <th>50%</th>\n",
       "      <td>1.000000</td>\n",
       "      <td>2.000000</td>\n",
       "      <td>0.000000e+00</td>\n",
       "    </tr>\n",
       "    <tr>\n",
       "      <th>75%</th>\n",
       "      <td>3.000000</td>\n",
       "      <td>5.000000</td>\n",
       "      <td>3.000000e+00</td>\n",
       "    </tr>\n",
       "    <tr>\n",
       "      <th>max</th>\n",
       "      <td>9999.000000</td>\n",
       "      <td>718291.000000</td>\n",
       "      <td>2.016092e+09</td>\n",
       "    </tr>\n",
       "  </tbody>\n",
       "</table>\n",
       "</div>"
      ],
      "text/plain": [
       "                v1             v2            v3\n",
       "count  7197.000000    7197.000000  7.197000e+03\n",
       "mean     16.580520     130.792830  3.168028e+05\n",
       "std     342.731897    8577.612116  2.396124e+07\n",
       "min       0.000000       0.000000  0.000000e+00\n",
       "25%       1.000000       0.000000  0.000000e+00\n",
       "50%       1.000000       2.000000  0.000000e+00\n",
       "75%       3.000000       5.000000  3.000000e+00\n",
       "max    9999.000000  718291.000000  2.016092e+09"
      ]
     },
     "execution_count": 22,
     "metadata": {},
     "output_type": "execute_result"
    }
   ],
   "source": [
    "first_df[['v1', 'v2', 'v3']].describe(include = 'all')"
   ]
  },
  {
   "cell_type": "markdown",
   "metadata": {},
   "source": [
    "Непонятно как интерпретироать данные с болльшим значением версии, поэтому выберем стратегию зануления таких версий, чтобы их большие значения не вляияли на алгоритм обучения. \n",
    "\n",
    "Возможно, в будущем мне следует лучше разобраться с природой и смыслом таких больших значений, ведь некоторые из них - точно такая же запись номера версии, но без разделяющей точки, а некоторые из них несут информацию о дате релиза."
   ]
  },
  {
   "cell_type": "code",
   "execution_count": 23,
   "metadata": {
    "scrolled": true
   },
   "outputs": [],
   "source": [
    "first_df.loc[first_df['v1'] >= 100, 'v1'] = 0\n",
    "first_df.loc[first_df['v2'] >= 100, 'v2'] = 0\n",
    "first_df.loc[first_df['v3'] >= 100, 'v3'] = 0"
   ]
  },
  {
   "cell_type": "markdown",
   "metadata": {},
   "source": [
    "Наконец, оптимизируем эти столбцы по занимаемой памяти и удалим исходный столбец из датасета."
   ]
  },
  {
   "cell_type": "code",
   "execution_count": 24,
   "metadata": {},
   "outputs": [],
   "source": [
    "first_df['v1'] = first_df['v1'].astype('int8')\n",
    "first_df['v2'] = first_df['v2'].astype('int8')\n",
    "first_df['v3'] = first_df['v3'].astype('int8')\n",
    "\n",
    "first_df.drop('ver', axis = 1, inplace = True)"
   ]
  },
  {
   "cell_type": "code",
   "execution_count": 25,
   "metadata": {},
   "outputs": [
    {
     "data": {
      "text/html": [
       "<div>\n",
       "<style scoped>\n",
       "    .dataframe tbody tr th:only-of-type {\n",
       "        vertical-align: middle;\n",
       "    }\n",
       "\n",
       "    .dataframe tbody tr th {\n",
       "        vertical-align: top;\n",
       "    }\n",
       "\n",
       "    .dataframe thead th {\n",
       "        text-align: right;\n",
       "    }\n",
       "</style>\n",
       "<table border=\"1\" class=\"dataframe\">\n",
       "  <thead>\n",
       "    <tr style=\"text-align: right;\">\n",
       "      <th></th>\n",
       "      <th>cont_rating</th>\n",
       "      <th>prime_genre</th>\n",
       "      <th>app_desc</th>\n",
       "      <th>track_name</th>\n",
       "      <th>v1</th>\n",
       "      <th>v2</th>\n",
       "      <th>v3</th>\n",
       "    </tr>\n",
       "  </thead>\n",
       "  <tbody>\n",
       "    <tr>\n",
       "      <th>0</th>\n",
       "      <td>4+</td>\n",
       "      <td>Games</td>\n",
       "      <td>SAVE 20%, now only $3.99 for a limited time!\\n...</td>\n",
       "      <td>PAC-MAN Premium</td>\n",
       "      <td>6</td>\n",
       "      <td>3</td>\n",
       "      <td>5</td>\n",
       "    </tr>\n",
       "    <tr>\n",
       "      <th>1</th>\n",
       "      <td>4+</td>\n",
       "      <td>Productivity</td>\n",
       "      <td>Let Evernote change the way you organize your ...</td>\n",
       "      <td>Evernote - stay organized</td>\n",
       "      <td>8</td>\n",
       "      <td>2</td>\n",
       "      <td>2</td>\n",
       "    </tr>\n",
       "    <tr>\n",
       "      <th>2</th>\n",
       "      <td>4+</td>\n",
       "      <td>Weather</td>\n",
       "      <td>Download the most popular free weather app pow...</td>\n",
       "      <td>WeatherBug - Local Weather, Radar, Maps, Alerts</td>\n",
       "      <td>5</td>\n",
       "      <td>0</td>\n",
       "      <td>0</td>\n",
       "    </tr>\n",
       "    <tr>\n",
       "      <th>3</th>\n",
       "      <td>12+</td>\n",
       "      <td>Shopping</td>\n",
       "      <td>The eBay app is the best way to find anything ...</td>\n",
       "      <td>eBay: Best App to Buy, Sell, Save! Online Shop...</td>\n",
       "      <td>5</td>\n",
       "      <td>10</td>\n",
       "      <td>0</td>\n",
       "    </tr>\n",
       "    <tr>\n",
       "      <th>4</th>\n",
       "      <td>4+</td>\n",
       "      <td>Reference</td>\n",
       "      <td>On more than 250 million devices around the wo...</td>\n",
       "      <td>Bible</td>\n",
       "      <td>7</td>\n",
       "      <td>5</td>\n",
       "      <td>1</td>\n",
       "    </tr>\n",
       "  </tbody>\n",
       "</table>\n",
       "</div>"
      ],
      "text/plain": [
       "  cont_rating   prime_genre  \\\n",
       "0          4+         Games   \n",
       "1          4+  Productivity   \n",
       "2          4+       Weather   \n",
       "3         12+      Shopping   \n",
       "4          4+     Reference   \n",
       "\n",
       "                                            app_desc  \\\n",
       "0  SAVE 20%, now only $3.99 for a limited time!\\n...   \n",
       "1  Let Evernote change the way you organize your ...   \n",
       "2  Download the most popular free weather app pow...   \n",
       "3  The eBay app is the best way to find anything ...   \n",
       "4  On more than 250 million devices around the wo...   \n",
       "\n",
       "                                          track_name  v1  v2  v3  \n",
       "0                                    PAC-MAN Premium   6   3   5  \n",
       "1                          Evernote - stay organized   8   2   2  \n",
       "2    WeatherBug - Local Weather, Radar, Maps, Alerts   5   0   0  \n",
       "3  eBay: Best App to Buy, Sell, Save! Online Shop...   5  10   0  \n",
       "4                                              Bible   7   5   1  "
      ]
     },
     "execution_count": 25,
     "metadata": {},
     "output_type": "execute_result"
    }
   ],
   "source": [
    "first_df.head()"
   ]
  },
  {
   "cell_type": "markdown",
   "metadata": {},
   "source": [
    "#### Остальные нечисловые колонки"
   ]
  },
  {
   "cell_type": "markdown",
   "metadata": {},
   "source": [
    "Колонки **prime_genre** и **cont_rating** являются категориальными и имеют отонсительно небольшое количество уникальных значений. Поэтому самым оптимальным вариантом для них будет *OneHotEncoding*."
   ]
  },
  {
   "cell_type": "code",
   "execution_count": 26,
   "metadata": {},
   "outputs": [
    {
     "name": "stdout",
     "output_type": "stream",
     "text": [
      "Уникальных значений для prime_genre: 23\n",
      "Уникальных значений для cont_rating: 4\n"
     ]
    }
   ],
   "source": [
    "print(\"Уникальных значений для prime_genre:\", first_df.prime_genre.unique().shape[0])\n",
    "print(\"Уникальных значений для cont_rating:\", first_df.cont_rating.unique().shape[0])"
   ]
  },
  {
   "cell_type": "code",
   "execution_count": 27,
   "metadata": {},
   "outputs": [],
   "source": [
    "first_df = pd.concat([first_df, pd.get_dummies(first_df.prime_genre, prefix='gen')], axis=1)\n",
    "first_df.drop(\"prime_genre\", axis = 1, inplace=True)"
   ]
  },
  {
   "cell_type": "code",
   "execution_count": 28,
   "metadata": {},
   "outputs": [],
   "source": [
    "first_df = pd.concat([first_df, pd.get_dummies(first_df.cont_rating, prefix='rate')], axis=1)\n",
    "first_df.drop(\"cont_rating\", axis = 1, inplace=True)"
   ]
  },
  {
   "cell_type": "markdown",
   "metadata": {},
   "source": [
    "Самой сложной частью преобразования является работа с текстовыми колонками, такими как **app_desc** и **track_name**, информация в которых непосредственно влияет на выбор пользователя.\n",
    "\n",
    "Возможные варианты: \n",
    "- выделить $k$ самых часто встречающихся слов и выделить бинарные колонки для этих слов с целью определения их наличия в тексте\n",
    "- Посчитать вектор для каждого текста и включить его координаты в качестве отдельной фичи. Лучшим решением будет *tf-idf* вектора в силу того, то они содержат статистическую информацию о важности слова в тексте. Этот метод может быть слишком затратным, если в датасете много различных слов, поэтому необходимо как-то ограничить размерность этих векторов.\n",
    "\n",
    "Поэтому первым делом посчитаем количество слов в описании с учетом того, что одинаковые слова могут стоять в разных формах и их необходимо нормализовать. Для работы с такими словами я буду использовать библиотеку *pymorphy2*, а также код, который использовал однажды для решения подобных задач."
   ]
  },
  {
   "cell_type": "code",
   "execution_count": 29,
   "metadata": {},
   "outputs": [],
   "source": [
    "def split_words_v3(a_text):\n",
    "    cur_word = ''\n",
    "    prev_is_alpha = False\n",
    "\n",
    "    for letter in a_text:\n",
    "        if  (letter.isalpha() and prev_is_alpha or \n",
    "            letter.isdigit() and not prev_is_alpha):\n",
    "            cur_word += letter\n",
    "        elif (letter.isalpha() and not prev_is_alpha or\n",
    "             letter.isdigit() and prev_is_alpha):\n",
    "            if cur_word: yield cur_word\n",
    "            cur_word = letter\n",
    "            prev_is_alpha = not prev_is_alpha\n",
    "        else:\n",
    "            if cur_word: yield cur_word\n",
    "            cur_word = ''\n",
    "            prev_is_alpha = False\n",
    "    if cur_word: yield cur_word"
   ]
  },
  {
   "cell_type": "code",
   "execution_count": 30,
   "metadata": {},
   "outputs": [],
   "source": [
    "class Normalizer:\n",
    "    def __init__(self):\n",
    "        self.morth_cache = {}\n",
    "        self.morth_analyzer = pymorphy2.MorphAnalyzer()\n",
    "\n",
    "    def get_norm_word_v3(self, a_word):\n",
    "        if a_word not in self.morth_cache:\n",
    "            self.morth_cache[a_word] = self.morth_analyzer.parse(a_word)[0].normal_form\n",
    "        return self.morth_cache[a_word]"
   ]
  },
  {
   "cell_type": "code",
   "execution_count": 31,
   "metadata": {},
   "outputs": [],
   "source": [
    "def get_doc_words(a_doc, a_split, normalizer):\n",
    "    for word in a_split(a_doc):\n",
    "        new_word = normalizer.get_norm_word_v3(word)\n",
    "        if new_word not in stopwords.words(\"english\") and not new_word.isdigit():\n",
    "            yield normalizer.get_norm_word_v3(word)"
   ]
  },
  {
   "cell_type": "markdown",
   "metadata": {},
   "source": [
    "Процесс будет долгим, но терпение будет вознаграждено!"
   ]
  },
  {
   "cell_type": "code",
   "execution_count": 32,
   "metadata": {},
   "outputs": [
    {
     "name": "stderr",
     "output_type": "stream",
     "text": [
      "100%|██████████| 7197/7197 [12:36<00:00,  9.52it/s]"
     ]
    },
    {
     "name": "stdout",
     "output_type": "stream",
     "text": [
      "Количество различных слов в описаниях: 93709\n",
      "Размер tf-idf векторов будет: 4998\n"
     ]
    },
    {
     "name": "stderr",
     "output_type": "stream",
     "text": [
      "\n"
     ]
    }
   ],
   "source": [
    "n = 25\n",
    "\n",
    "norml = Normalizer()\n",
    "\n",
    "indexes = first_df['app_desc'].index\n",
    "\n",
    "word2id = {}\n",
    "counter = {}\n",
    "good_desc = {}\n",
    "\n",
    "for idx in tqdm(indexes):\n",
    "    good_desc[idx] = list(get_doc_words(first_df['app_desc'][idx], split_words_v3, norml))\n",
    "    for word in good_desc[idx]:\n",
    "        if word not in counter: \n",
    "            counter[word] = 0\n",
    "        else:\n",
    "            counter[word] += 1\n",
    "            if counter[word] > n:\n",
    "                word2id[word] = len(word2id)\n",
    "    \n",
    "print(\"Количество различных слов в описаниях:\", len(counter))\n",
    "print(\"Размер tf-idf векторов будет:\", len(word2id))"
   ]
  },
  {
   "cell_type": "markdown",
   "metadata": {},
   "source": [
    "Несмотря на достаточно высокий порог вхождения, размерность векторов получится слишком большой для того, чтобы хранить вектора для каждой строки датасета. Поэтому остановимя на первом варианте и выделим в датасете $k$ новых бинарных столбцов для наиболее встречающихся слов. \n",
    "\n",
    "Я думаю, что стоит проделать эту процедуру для описания и для названия приложения отдельно, поскольку они по разному влияют на пользователя и иметь разную информационнцю ценность."
   ]
  },
  {
   "cell_type": "code",
   "execution_count": 33,
   "metadata": {},
   "outputs": [],
   "source": [
    "k = 40\n",
    "new_cols = sorted(list(counter.items()), key=lambda i: i[1], reverse=True)[:k]\n",
    "\n",
    "new_cols = list(map(lambda u: u[0], new_cols))\n",
    "\n",
    "for word in new_cols:\n",
    "    first_df[word + '_col'] = 0"
   ]
  },
  {
   "cell_type": "code",
   "execution_count": 34,
   "metadata": {},
   "outputs": [
    {
     "name": "stderr",
     "output_type": "stream",
     "text": [
      "100%|██████████| 7197/7197 [03:38<00:00, 33.00it/s]\n"
     ]
    }
   ],
   "source": [
    "for idx in tqdm(indexes):\n",
    "    for word in good_desc[idx]:\n",
    "        if word in new_cols:\n",
    "            first_df.loc[idx, word + '_col'] = 1"
   ]
  },
  {
   "cell_type": "code",
   "execution_count": 35,
   "metadata": {},
   "outputs": [],
   "source": [
    "first_df.drop('app_desc', axis = 1, inplace = True)"
   ]
  },
  {
   "cell_type": "markdown",
   "metadata": {},
   "source": [
    "Повторим процедуру для названий приложений:"
   ]
  },
  {
   "cell_type": "code",
   "execution_count": 36,
   "metadata": {},
   "outputs": [
    {
     "name": "stderr",
     "output_type": "stream",
     "text": [
      "100%|██████████| 7197/7197 [00:16<00:00, 443.43it/s]"
     ]
    },
    {
     "name": "stdout",
     "output_type": "stream",
     "text": [
      "Количество различных слов в названиях: 8840\n"
     ]
    },
    {
     "name": "stderr",
     "output_type": "stream",
     "text": [
      "\n"
     ]
    }
   ],
   "source": [
    "indexes = first_df['track_name'].index\n",
    "\n",
    "counter = {}\n",
    "good_desc = {}\n",
    "\n",
    "for idx in tqdm(indexes):\n",
    "    good_desc[idx] = list(get_doc_words(first_df['track_name'][idx], split_words_v3, norml))\n",
    "    for word in good_desc[idx]:\n",
    "        if word not in counter: \n",
    "            counter[word] = 0\n",
    "        else:\n",
    "            counter[word] += 1\n",
    "    \n",
    "print(\"Количество различных слов в названиях:\", len(counter))"
   ]
  },
  {
   "cell_type": "code",
   "execution_count": 37,
   "metadata": {},
   "outputs": [],
   "source": [
    "k = 40\n",
    "new_cols = sorted(list(counter.items()), key=lambda i: i[1], reverse=True)[:k]\n",
    "\n",
    "new_cols = list(map(lambda u: u[0], new_cols))\n",
    "\n",
    "for word in new_cols:\n",
    "    first_df[word + '_name'] = 0"
   ]
  },
  {
   "cell_type": "code",
   "execution_count": 38,
   "metadata": {},
   "outputs": [
    {
     "name": "stderr",
     "output_type": "stream",
     "text": [
      "100%|██████████| 7197/7197 [00:05<00:00, 1287.13it/s]\n"
     ]
    }
   ],
   "source": [
    "for idx in tqdm(indexes):\n",
    "    for word in good_desc[idx]:\n",
    "        if word in new_cols:\n",
    "            first_df.loc[idx, word + '_name'] = 1"
   ]
  },
  {
   "cell_type": "code",
   "execution_count": 39,
   "metadata": {},
   "outputs": [],
   "source": [
    "first_df.drop('track_name', axis = 1, inplace = True)"
   ]
  },
  {
   "cell_type": "code",
   "execution_count": 40,
   "metadata": {},
   "outputs": [],
   "source": [
    "new_cols = None\n",
    "good_desc = None\n",
    "counter = None"
   ]
  },
  {
   "cell_type": "markdown",
   "metadata": {},
   "source": [
    "Теперь мы преобразовали всех наши нечисловые данные в числовой вид."
   ]
  },
  {
   "cell_type": "code",
   "execution_count": 41,
   "metadata": {},
   "outputs": [
    {
     "data": {
      "text/html": [
       "<div>\n",
       "<style scoped>\n",
       "    .dataframe tbody tr th:only-of-type {\n",
       "        vertical-align: middle;\n",
       "    }\n",
       "\n",
       "    .dataframe tbody tr th {\n",
       "        vertical-align: top;\n",
       "    }\n",
       "\n",
       "    .dataframe thead th {\n",
       "        text-align: right;\n",
       "    }\n",
       "</style>\n",
       "<table border=\"1\" class=\"dataframe\">\n",
       "  <thead>\n",
       "    <tr style=\"text-align: right;\">\n",
       "      <th></th>\n",
       "      <th>v1</th>\n",
       "      <th>v2</th>\n",
       "      <th>v3</th>\n",
       "      <th>gen_Book</th>\n",
       "      <th>gen_Business</th>\n",
       "      <th>gen_Catalogs</th>\n",
       "      <th>gen_Education</th>\n",
       "      <th>gen_Entertainment</th>\n",
       "      <th>gen_Finance</th>\n",
       "      <th>gen_Food &amp; Drink</th>\n",
       "      <th>...</th>\n",
       "      <th>real_name</th>\n",
       "      <th>maker_name</th>\n",
       "      <th>city_name</th>\n",
       "      <th>run_name</th>\n",
       "      <th>vr_name</th>\n",
       "      <th>car_name</th>\n",
       "      <th>escape_name</th>\n",
       "      <th>sports_name</th>\n",
       "      <th>super_name</th>\n",
       "      <th>emoji_name</th>\n",
       "    </tr>\n",
       "  </thead>\n",
       "  <tbody>\n",
       "    <tr>\n",
       "      <th>count</th>\n",
       "      <td>7197.000000</td>\n",
       "      <td>7197.000000</td>\n",
       "      <td>7197.000000</td>\n",
       "      <td>7197.000000</td>\n",
       "      <td>7197.000000</td>\n",
       "      <td>7197.000000</td>\n",
       "      <td>7197.000000</td>\n",
       "      <td>7197.000000</td>\n",
       "      <td>7197.000000</td>\n",
       "      <td>7197.000000</td>\n",
       "      <td>...</td>\n",
       "      <td>7197.000000</td>\n",
       "      <td>7197.000000</td>\n",
       "      <td>7197.000000</td>\n",
       "      <td>7197.000000</td>\n",
       "      <td>7197.000000</td>\n",
       "      <td>7197.000000</td>\n",
       "      <td>7197.000000</td>\n",
       "      <td>7197.000000</td>\n",
       "      <td>7197.000000</td>\n",
       "      <td>7197.000000</td>\n",
       "    </tr>\n",
       "    <tr>\n",
       "      <th>mean</th>\n",
       "      <td>2.294706</td>\n",
       "      <td>5.118938</td>\n",
       "      <td>2.581909</td>\n",
       "      <td>0.015562</td>\n",
       "      <td>0.007920</td>\n",
       "      <td>0.001389</td>\n",
       "      <td>0.062943</td>\n",
       "      <td>0.074337</td>\n",
       "      <td>0.014450</td>\n",
       "      <td>0.008754</td>\n",
       "      <td>...</td>\n",
       "      <td>0.007503</td>\n",
       "      <td>0.007364</td>\n",
       "      <td>0.007086</td>\n",
       "      <td>0.007086</td>\n",
       "      <td>0.007086</td>\n",
       "      <td>0.006947</td>\n",
       "      <td>0.006253</td>\n",
       "      <td>0.006253</td>\n",
       "      <td>0.006392</td>\n",
       "      <td>0.006114</td>\n",
       "    </tr>\n",
       "    <tr>\n",
       "      <th>std</th>\n",
       "      <td>3.022841</td>\n",
       "      <td>10.820367</td>\n",
       "      <td>7.380387</td>\n",
       "      <td>0.123782</td>\n",
       "      <td>0.088647</td>\n",
       "      <td>0.037252</td>\n",
       "      <td>0.242877</td>\n",
       "      <td>0.262336</td>\n",
       "      <td>0.119347</td>\n",
       "      <td>0.093157</td>\n",
       "      <td>...</td>\n",
       "      <td>0.086301</td>\n",
       "      <td>0.085504</td>\n",
       "      <td>0.083887</td>\n",
       "      <td>0.083887</td>\n",
       "      <td>0.083887</td>\n",
       "      <td>0.083066</td>\n",
       "      <td>0.078831</td>\n",
       "      <td>0.078831</td>\n",
       "      <td>0.079697</td>\n",
       "      <td>0.077956</td>\n",
       "    </tr>\n",
       "    <tr>\n",
       "      <th>min</th>\n",
       "      <td>0.000000</td>\n",
       "      <td>0.000000</td>\n",
       "      <td>0.000000</td>\n",
       "      <td>0.000000</td>\n",
       "      <td>0.000000</td>\n",
       "      <td>0.000000</td>\n",
       "      <td>0.000000</td>\n",
       "      <td>0.000000</td>\n",
       "      <td>0.000000</td>\n",
       "      <td>0.000000</td>\n",
       "      <td>...</td>\n",
       "      <td>0.000000</td>\n",
       "      <td>0.000000</td>\n",
       "      <td>0.000000</td>\n",
       "      <td>0.000000</td>\n",
       "      <td>0.000000</td>\n",
       "      <td>0.000000</td>\n",
       "      <td>0.000000</td>\n",
       "      <td>0.000000</td>\n",
       "      <td>0.000000</td>\n",
       "      <td>0.000000</td>\n",
       "    </tr>\n",
       "    <tr>\n",
       "      <th>25%</th>\n",
       "      <td>1.000000</td>\n",
       "      <td>0.000000</td>\n",
       "      <td>0.000000</td>\n",
       "      <td>0.000000</td>\n",
       "      <td>0.000000</td>\n",
       "      <td>0.000000</td>\n",
       "      <td>0.000000</td>\n",
       "      <td>0.000000</td>\n",
       "      <td>0.000000</td>\n",
       "      <td>0.000000</td>\n",
       "      <td>...</td>\n",
       "      <td>0.000000</td>\n",
       "      <td>0.000000</td>\n",
       "      <td>0.000000</td>\n",
       "      <td>0.000000</td>\n",
       "      <td>0.000000</td>\n",
       "      <td>0.000000</td>\n",
       "      <td>0.000000</td>\n",
       "      <td>0.000000</td>\n",
       "      <td>0.000000</td>\n",
       "      <td>0.000000</td>\n",
       "    </tr>\n",
       "    <tr>\n",
       "      <th>50%</th>\n",
       "      <td>1.000000</td>\n",
       "      <td>2.000000</td>\n",
       "      <td>0.000000</td>\n",
       "      <td>0.000000</td>\n",
       "      <td>0.000000</td>\n",
       "      <td>0.000000</td>\n",
       "      <td>0.000000</td>\n",
       "      <td>0.000000</td>\n",
       "      <td>0.000000</td>\n",
       "      <td>0.000000</td>\n",
       "      <td>...</td>\n",
       "      <td>0.000000</td>\n",
       "      <td>0.000000</td>\n",
       "      <td>0.000000</td>\n",
       "      <td>0.000000</td>\n",
       "      <td>0.000000</td>\n",
       "      <td>0.000000</td>\n",
       "      <td>0.000000</td>\n",
       "      <td>0.000000</td>\n",
       "      <td>0.000000</td>\n",
       "      <td>0.000000</td>\n",
       "    </tr>\n",
       "    <tr>\n",
       "      <th>75%</th>\n",
       "      <td>3.000000</td>\n",
       "      <td>5.000000</td>\n",
       "      <td>3.000000</td>\n",
       "      <td>0.000000</td>\n",
       "      <td>0.000000</td>\n",
       "      <td>0.000000</td>\n",
       "      <td>0.000000</td>\n",
       "      <td>0.000000</td>\n",
       "      <td>0.000000</td>\n",
       "      <td>0.000000</td>\n",
       "      <td>...</td>\n",
       "      <td>0.000000</td>\n",
       "      <td>0.000000</td>\n",
       "      <td>0.000000</td>\n",
       "      <td>0.000000</td>\n",
       "      <td>0.000000</td>\n",
       "      <td>0.000000</td>\n",
       "      <td>0.000000</td>\n",
       "      <td>0.000000</td>\n",
       "      <td>0.000000</td>\n",
       "      <td>0.000000</td>\n",
       "    </tr>\n",
       "    <tr>\n",
       "      <th>max</th>\n",
       "      <td>95.000000</td>\n",
       "      <td>99.000000</td>\n",
       "      <td>99.000000</td>\n",
       "      <td>1.000000</td>\n",
       "      <td>1.000000</td>\n",
       "      <td>1.000000</td>\n",
       "      <td>1.000000</td>\n",
       "      <td>1.000000</td>\n",
       "      <td>1.000000</td>\n",
       "      <td>1.000000</td>\n",
       "      <td>...</td>\n",
       "      <td>1.000000</td>\n",
       "      <td>1.000000</td>\n",
       "      <td>1.000000</td>\n",
       "      <td>1.000000</td>\n",
       "      <td>1.000000</td>\n",
       "      <td>1.000000</td>\n",
       "      <td>1.000000</td>\n",
       "      <td>1.000000</td>\n",
       "      <td>1.000000</td>\n",
       "      <td>1.000000</td>\n",
       "    </tr>\n",
       "  </tbody>\n",
       "</table>\n",
       "<p>8 rows × 110 columns</p>\n",
       "</div>"
      ],
      "text/plain": [
       "                v1           v2           v3     gen_Book  gen_Business  \\\n",
       "count  7197.000000  7197.000000  7197.000000  7197.000000   7197.000000   \n",
       "mean      2.294706     5.118938     2.581909     0.015562      0.007920   \n",
       "std       3.022841    10.820367     7.380387     0.123782      0.088647   \n",
       "min       0.000000     0.000000     0.000000     0.000000      0.000000   \n",
       "25%       1.000000     0.000000     0.000000     0.000000      0.000000   \n",
       "50%       1.000000     2.000000     0.000000     0.000000      0.000000   \n",
       "75%       3.000000     5.000000     3.000000     0.000000      0.000000   \n",
       "max      95.000000    99.000000    99.000000     1.000000      1.000000   \n",
       "\n",
       "       gen_Catalogs  gen_Education  gen_Entertainment  gen_Finance  \\\n",
       "count   7197.000000    7197.000000        7197.000000  7197.000000   \n",
       "mean       0.001389       0.062943           0.074337     0.014450   \n",
       "std        0.037252       0.242877           0.262336     0.119347   \n",
       "min        0.000000       0.000000           0.000000     0.000000   \n",
       "25%        0.000000       0.000000           0.000000     0.000000   \n",
       "50%        0.000000       0.000000           0.000000     0.000000   \n",
       "75%        0.000000       0.000000           0.000000     0.000000   \n",
       "max        1.000000       1.000000           1.000000     1.000000   \n",
       "\n",
       "       gen_Food & Drink  ...    real_name   maker_name    city_name  \\\n",
       "count       7197.000000  ...  7197.000000  7197.000000  7197.000000   \n",
       "mean           0.008754  ...     0.007503     0.007364     0.007086   \n",
       "std            0.093157  ...     0.086301     0.085504     0.083887   \n",
       "min            0.000000  ...     0.000000     0.000000     0.000000   \n",
       "25%            0.000000  ...     0.000000     0.000000     0.000000   \n",
       "50%            0.000000  ...     0.000000     0.000000     0.000000   \n",
       "75%            0.000000  ...     0.000000     0.000000     0.000000   \n",
       "max            1.000000  ...     1.000000     1.000000     1.000000   \n",
       "\n",
       "          run_name      vr_name     car_name  escape_name  sports_name  \\\n",
       "count  7197.000000  7197.000000  7197.000000  7197.000000  7197.000000   \n",
       "mean      0.007086     0.007086     0.006947     0.006253     0.006253   \n",
       "std       0.083887     0.083887     0.083066     0.078831     0.078831   \n",
       "min       0.000000     0.000000     0.000000     0.000000     0.000000   \n",
       "25%       0.000000     0.000000     0.000000     0.000000     0.000000   \n",
       "50%       0.000000     0.000000     0.000000     0.000000     0.000000   \n",
       "75%       0.000000     0.000000     0.000000     0.000000     0.000000   \n",
       "max       1.000000     1.000000     1.000000     1.000000     1.000000   \n",
       "\n",
       "        super_name   emoji_name  \n",
       "count  7197.000000  7197.000000  \n",
       "mean      0.006392     0.006114  \n",
       "std       0.079697     0.077956  \n",
       "min       0.000000     0.000000  \n",
       "25%       0.000000     0.000000  \n",
       "50%       0.000000     0.000000  \n",
       "75%       0.000000     0.000000  \n",
       "max       1.000000     1.000000  \n",
       "\n",
       "[8 rows x 110 columns]"
      ]
     },
     "execution_count": 41,
     "metadata": {},
     "output_type": "execute_result"
    }
   ],
   "source": [
    "first_df.describe()"
   ]
  },
  {
   "cell_type": "markdown",
   "metadata": {},
   "source": [
    "### Посмотрим на зависимости между данными"
   ]
  },
  {
   "cell_type": "markdown",
   "metadata": {},
   "source": [
    "Обратим внимание на то, как зависит средний рейтинг приложения от жанра игры."
   ]
  },
  {
   "cell_type": "code",
   "execution_count": 42,
   "metadata": {},
   "outputs": [
    {
     "data": {
      "text/plain": [
       "<matplotlib.axes._subplots.AxesSubplot at 0x7fb9a9fa74d0>"
      ]
     },
     "execution_count": 42,
     "metadata": {},
     "output_type": "execute_result"
    },
    {
     "data": {
      "image/png": "[encoded data removed]",
      "text/plain": [
       "<Figure size 1296x576 with 1 Axes>"
      ]
     },
     "metadata": {
      "needs_background": "light"
     },
     "output_type": "display_data"
    }
   ],
   "source": [
    "apple_df[['prime_genre', 'user_rating']].groupby('prime_genre').mean()['user_rating'].sort_values().plot.bar()"
   ]
  },
  {
   "cell_type": "markdown",
   "metadata": {},
   "source": [
    "Также интересно обратить внимание на кореляции между числовыми данными."
   ]
  },
  {
   "cell_type": "code",
   "execution_count": 43,
   "metadata": {},
   "outputs": [
    {
     "data": {
      "text/plain": [
       "<matplotlib.axes._subplots.AxesSubplot at 0x7fb9a92e8f50>"
      ]
     },
     "execution_count": 43,
     "metadata": {},
     "output_type": "execute_result"
    },
    {
     "data": {
      "image/png": "[encoded data removed]",
      "text/plain": [
       "<Figure size 1296x576 with 2 Axes>"
      ]
     },
     "metadata": {
      "needs_background": "light"
     },
     "output_type": "display_data"
    }
   ],
   "source": [
    "fi = plt.figure()\n",
    "ax1 = fi.add_subplot()\n",
    "ax1.set_title('Матрица корелляции')\n",
    "sns.heatmap(second_df.corr().abs(), annot=True, cmap = \"coolwarm\", linewidth = 0.1, ax = ax1)"
   ]
  },
  {
   "cell_type": "markdown",
   "metadata": {},
   "source": [
    "Посмотрим на распределение цены по рейтингу. \n",
    "\n",
    "Сразу обнаружим, что есть выбросные значения цены."
   ]
  },
  {
   "cell_type": "code",
   "execution_count": 44,
   "metadata": {},
   "outputs": [
    {
     "data": {
      "text/plain": [
       "<matplotlib.axes._subplots.AxesSubplot at 0x7fb9a911b0d0>"
      ]
     },
     "execution_count": 44,
     "metadata": {},
     "output_type": "execute_result"
    },
    {
     "data": {
      "image/png": "[encoded data removed]",
      "text/plain": [
       "<Figure size 1296x576 with 1 Axes>"
      ]
     },
     "metadata": {
      "needs_background": "light"
     },
     "output_type": "display_data"
    }
   ],
   "source": [
    "sns.boxplot(y=\"user_rating\", x=\"price\", data=apple_df, orient=\"h\")"
   ]
  },
  {
   "cell_type": "markdown",
   "metadata": {},
   "source": [
    "Зависимость среднего рейтинга от количеста поддерживаемых языков."
   ]
  },
  {
   "cell_type": "code",
   "execution_count": 45,
   "metadata": {},
   "outputs": [
    {
     "data": {
      "text/plain": [
       "<matplotlib.axes._subplots.AxesSubplot at 0x7fb9a9620690>"
      ]
     },
     "execution_count": 45,
     "metadata": {},
     "output_type": "execute_result"
    },
    {
     "data": {
      "image/png": "[encoded data removed]",
      "text/plain": [
       "<Figure size 1296x576 with 1 Axes>"
      ]
     },
     "metadata": {
      "needs_background": "light"
     },
     "output_type": "display_data"
    }
   ],
   "source": [
    "apple_df[['lang.num', 'user_rating']].groupby('lang.num').mean()['user_rating'].sort_values().plot.bar()"
   ]
  },
  {
   "cell_type": "markdown",
   "metadata": {},
   "source": [
    "### Слияние разделенных датасетов"
   ]
  },
  {
   "cell_type": "markdown",
   "metadata": {},
   "source": [
    "После того как датасеты были обработаны, их можно слить обратно вместе для дальнейшей работы."
   ]
  },
  {
   "cell_type": "code",
   "execution_count": 46,
   "metadata": {},
   "outputs": [],
   "source": [
    "apple_df = pd.concat([first_df, second_df], axis=1, sort=False)"
   ]
  },
  {
   "cell_type": "markdown",
   "metadata": {},
   "source": [
    "### Избавимся от выбросов"
   ]
  },
  {
   "cell_type": "markdown",
   "metadata": {},
   "source": [
    "Выбросные значения цены могут негативно повлиять на предсказывающий алгоритм, поэтому заменим их на среднее среди платных приложений."
   ]
  },
  {
   "cell_type": "code",
   "execution_count": 47,
   "metadata": {},
   "outputs": [],
   "source": [
    "rub_val = 100\n",
    "apple_df.loc[apple_df['price'] > rub_val, 'price'] = apple_df[apple_df['price'] > 0].price.mean()"
   ]
  },
  {
   "cell_type": "markdown",
   "metadata": {},
   "source": [
    "### Сгенерируем новые фичи\n"
   ]
  },
  {
   "cell_type": "markdown",
   "metadata": {},
   "source": [
    "Очень важной чертой приложения для меня лично - это его бесплатность, поэтому добавить такую фичу в наш датасет - самое очевидное, что приходит на ум."
   ]
  },
  {
   "cell_type": "code",
   "execution_count": 48,
   "metadata": {},
   "outputs": [],
   "source": [
    "apple_df[\"not_free\"] = 0\n",
    "apple_df.loc[apple_df.price > 0.0, \"not_free\"] = 1"
   ]
  },
  {
   "cell_type": "code",
   "execution_count": 49,
   "metadata": {},
   "outputs": [
    {
     "data": {
      "text/plain": [
       "<matplotlib.axes._subplots.AxesSubplot at 0x7fb9a85fc310>"
      ]
     },
     "execution_count": 49,
     "metadata": {},
     "output_type": "execute_result"
    },
    {
     "data": {
      "image/png": "[encoded data removed]",
      "text/plain": [
       "<Figure size 1296x576 with 1 Axes>"
      ]
     },
     "metadata": {
      "needs_background": "light"
     },
     "output_type": "display_data"
    }
   ],
   "source": [
    "apple_df.groupby(['not_free'])[['user_rating']].mean().plot.bar()"
   ]
  },
  {
   "cell_type": "markdown",
   "metadata": {},
   "source": [
    "Также можно заметить, что приложения, которые поддерживают мало языков, получаю небольшой рейтинг, поэтому выделим в отдельную фичу наличие более $l$ поддерживаемых языков.\n"
   ]
  },
  {
   "cell_type": "code",
   "execution_count": 50,
   "metadata": {},
   "outputs": [],
   "source": [
    "l = 3\n",
    "apple_df[\"more_langs\"] = 0\n",
    "apple_df.loc[apple_df['lang.num'] > l, \"more_langs\"] = 1"
   ]
  },
  {
   "cell_type": "markdown",
   "metadata": {},
   "source": [
    "### Подготовка тренировочного и тестового набора"
   ]
  },
  {
   "cell_type": "markdown",
   "metadata": {},
   "source": [
    "Разделим полученный датасет с обработанными данными на тренировочный и обучающий."
   ]
  },
  {
   "cell_type": "markdown",
   "metadata": {},
   "source": [
    "Поделим датасет в примерном соотношении: 80% для тренировки и 20% для теста.\n",
    "\n",
    "В данном случае нет четко выраженного критерия разбития, поэтому делить будем случайным образом с помощью функции с лекции."
   ]
  },
  {
   "cell_type": "code",
   "execution_count": 51,
   "metadata": {},
   "outputs": [],
   "source": [
    "def split_train_test(data, test_ratio, state = 42):    \n",
    "    shuffled_indices = np.random.RandomState(seed=state).permutation(len(data))\n",
    "    test_set_size = int(len(data) * test_ratio)\n",
    "    test_indices = shuffled_indices[:test_set_size]\n",
    "    train_indices = shuffled_indices[test_set_size:]\n",
    "    return data.iloc[train_indices], data.iloc[test_indices] "
   ]
  },
  {
   "cell_type": "code",
   "execution_count": 52,
   "metadata": {},
   "outputs": [
    {
     "name": "stdout",
     "output_type": "stream",
     "text": [
      "Размер тренировочного датасета: 5758\n",
      "Размер тестового датасета: 1439\n",
      "Количество данных для тестового набора составляет: 19.994442128664723%\n"
     ]
    }
   ],
   "source": [
    "X_train, X_test = split_train_test(apple_df, 0.2)\n",
    "print(\"Размер тренировочного датасета:\", len(X_train))\n",
    "print(\"Размер тестового датасета:\", len(X_test))\n",
    "print(\"Количество данных для тестового набора составляет:\", str(100 * X_test.shape[0] / apple_df.shape[0]) + \"%\")"
   ]
  },
  {
   "cell_type": "code",
   "execution_count": 53,
   "metadata": {},
   "outputs": [],
   "source": [
    "Y_train = X_train['user_rating']\n",
    "Y_test = X_test['user_rating']\n",
    "\n",
    "X_train.drop('user_rating', axis = 1, inplace = True)\n",
    "X_test.drop('user_rating', axis = 1, inplace = True)"
   ]
  },
  {
   "cell_type": "markdown",
   "metadata": {},
   "source": [
    "### Нормализация"
   ]
  },
  {
   "cell_type": "markdown",
   "metadata": {},
   "source": [
    "Качество работы множества алгоритмов зависит от нормированности данных, поэтому нормализуем наш тренировочный и тестовый датасет.\n",
    "\n",
    "Нормализацию проведём на стандартное отклонение:"
   ]
  },
  {
   "cell_type": "code",
   "execution_count": 54,
   "metadata": {},
   "outputs": [],
   "source": [
    "scale_features_std = StandardScaler() \n",
    "\n",
    "X_train = scale_features_std.fit_transform(X_train) \n",
    "X_test = scale_features_std.transform(X_test) "
   ]
  }
 ],
 "metadata": {
  "kernelspec": {
   "display_name": "Python 3",
   "language": "python",
   "name": "python3"
  },
  "language_info": {
   "codemirror_mode": {
    "name": "ipython",
    "version": 3
   },
   "file_extension": ".py",
   "mimetype": "text/x-python",
   "name": "python",
   "nbconvert_exporter": "python",
   "pygments_lexer": "ipython3",
   "version": "3.7.6"
  }
 },
 "nbformat": 4,
 "nbformat_minor": 1
}
